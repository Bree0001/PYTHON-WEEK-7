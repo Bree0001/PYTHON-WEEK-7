{
 "cells": [
  {
   "cell_type": "code",
   "execution_count": null,
   "id": "fe2416d0",
   "metadata": {
    "vscode": {
     "languageId": "plaintext"
    }
   },
   "outputs": [],
   "source": [
    "# Iris_Data_Analysis.ipynb\n",
    "\n",
    "# Task 1: Load and Explore the Dataset\n",
    "import pandas as pd\n",
    "import matplotlib.pyplot as plt\n",
    "import seaborn as sns\n",
    "\n",
    "# Load the dataset\n",
    "df = pd.read_csv('iris.csv')\n",
    "\n",
    "# Display first few rows\n",
    "print(\"First 5 rows of the dataset:\")\n",
    "display(df.head())\n",
    "\n",
    "# Check data types and structure\n",
    "print(\"\\nDataset Info:\")\n",
    "df.info()\n",
    "\n",
    "# Check for missing values\n",
    "print(\"\\nMissing Values:\")\n",
    "print(df.isnull().sum())\n",
    "\n",
    "# Task 2: Basic Data Analysis\n",
    "print(\"\\nDescriptive Statistics:\")\n",
    "display(df.describe())\n",
    "\n",
    "print(\"\\nMean values grouped by species:\")\n",
    "display(df.groupby(\"species\").mean(numeric_only=True))\n",
    "\n",
    "# Task 3: Data Visualizations\n",
    "plt.figure(figsize=(12, 10))\n",
    "\n",
    "# 1. Line Chart – Sepal Length over Index\n",
    "plt.subplot(2, 2, 1)\n",
    "plt.plot(df.index, df['sepal_length'], label=\"Sepal Length\", color='blue')\n",
    "plt.title(\"Sepal Length Over Index\")\n",
    "plt.xlabel(\"Index\")\n",
    "plt.ylabel(\"Sepal Length (cm)\")\n",
    "plt.legend()\n",
    "\n",
    "# 2. Bar Chart – Average Petal Length per Species\n",
    "plt.subplot(2, 2, 2)\n",
    "sns.barplot(data=df, x=\"species\", y=\"petal_length\")\n",
    "plt.title(\"Average Petal Length per Species\")\n",
    "plt.xlabel(\"Species\")\n",
    "plt.ylabel(\"Petal Length (cm)\")\n",
    "\n",
    "# 3. Histogram – Distribution of Sepal Width\n",
    "plt.subplot(2, 2, 3)\n",
    "plt.hist(df['sepal_width'], bins=15, color=\"green\", edgecolor=\"black\")\n",
    "plt.title(\"Distribution of Sepal Width\")\n",
    "plt.xlabel(\"Sepal Width (cm)\")\n",
    "plt.ylabel(\"Frequency\")\n",
    "\n",
    "# 4. Scatter Plot – Sepal Length vs. Petal Length\n",
    "plt.subplot(2, 2, 4)\n",
    "sns.scatterplot(data=df, x=\"sepal_length\", y=\"petal_length\", hue=\"species\")\n",
    "plt.title(\"Sepal Length vs Petal Length\")\n",
    "plt.xlabel(\"Sepal Length (cm)\")\n",
    "plt.ylabel(\"Petal Length (cm)\")\n",
    "\n",
    "plt.tight_layout()\n",
    "plt.show()\n"
   ]
  }
 ],
 "metadata": {
  "language_info": {
   "name": "python"
  }
 },
 "nbformat": 4,
 "nbformat_minor": 5
}
